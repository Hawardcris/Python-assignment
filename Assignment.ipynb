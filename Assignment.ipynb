{
 "cells": [
  {
   "cell_type": "code",
   "execution_count": null,
   "metadata": {},
   "outputs": [],
   "source": [
    "import numpy as np\n",
    "import matplotlib.pyplot as plt\n",
    "\n",
    "# Constants\n",
    "hbar = 1.0545718e-34  # Reduced Planck's constant\n",
    "m = 9.10938356e-31  # Mass of electron\n",
    "\n",
    "# Potential function\n",
    "def V(x):\n",
    "    if x < 0 or x > 1:\n",
    "        return np.inf\n",
    "    else:\n",
    "        return 0\n",
    "\n",
    "# Discretization\n",
    "N = 1000  # Number of grid points\n",
    "L = 1  # Length of well\n",
    "x = np.linspace(0, L, N)\n",
    "dx = x[1] - x[0]\n",
    "\n",
    "# Kinetic energy operator\n",
    "T = np.zeros((N, N))\n",
    "for i in range(N):\n",
    "    T[i, i] = -2\n",
    "    if i > 0:\n",
    "        T[i, i-1] = 1\n",
    "    if i < N-1:\n",
    "        T[i, i+1] = 1\n",
    "T = -hbar**2 / (2*m*dx**2) * T\n",
    "\n",
    "# Potential energy operator\n",
    "V = np.diag([V(xi) for xi in x])\n",
    "\n",
    "# Hamiltonian\n",
    "H = T + V\n",
    "\n",
    "# Eigenvalue problem\n",
    "E, psi = np.linalg.eigh(H)\n",
    "\n",
    "# Plot ground state wavefunction\n",
    "plt.plot(x, psi[:, 0])\n",
    "plt.xlabel('Position (m)')\n",
    "plt.ylabel('Wavefunction')\n",
    "plt.show()\n",
    "\n",
    "# Plot energy levels\n",
    "plt.plot(E)\n",
    "plt.xlabel('State number')\n",
    "plt.ylabel('Energy (J)')\n",
    "plt.show()\n"
   ]
  },
  {
   "attachments": {},
   "cell_type": "markdown",
   "metadata": {},
   "source": [
    "This code first defines the potential energy function V(x), which is infinite outside the well and zero inside. It then sets up a discretization of the one-dimensional space using numpy.linspace and defines the grid spacing dx.\n",
    "\n",
    "Next, it constructs the kinetic energy operator T using the finite difference method, and calculates the potential energy operator V on the grid points. These operators are combined to form the Hamiltonian H.\n",
    "\n",
    "Finally, the code solves the eigenvalue problem H psi = E psi using numpy.linalg.eigh, where E are the energy levels and psi are the corresponding wavefunctions. The ground state wavefunction is plotted using matplotlib, and the energy levels are plotted as well.\n",
    "\n",
    "\n",
    "\n",
    "\n"
   ]
  }
 ],
 "metadata": {
  "kernelspec": {
   "display_name": "Python 3",
   "language": "python",
   "name": "python3"
  },
  "language_info": {
   "name": "python",
   "version": "3.11.2"
  },
  "orig_nbformat": 4,
  "vscode": {
   "interpreter": {
    "hash": "4adcf0abd1fd292a10d78e68792e5572e39ab1a97a000da38e12cb0395329b94"
   }
  }
 },
 "nbformat": 4,
 "nbformat_minor": 2
}
